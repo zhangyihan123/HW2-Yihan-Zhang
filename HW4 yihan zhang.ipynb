{
 "cells": [
  {
   "cell_type": "markdown",
   "metadata": {
    "colab_type": "text",
    "id": "3wgJYg6yrAsl"
   },
   "source": [
    "#  **Homework Problem**\n",
    "\n",
    "This homework problem involves the autonomous segmentation of nuclei. This task was produced by Kaggle for the [2018 Data Science Bowl](https://www.kaggle.com/c/data-science-bowl-2018) and instructed researchers to segment a wide range of nuclei across varied conditions. This Colab notebook contains all of the requisite code to complete the segmentation process so feel free to run all of the cells (Ctrl+F9) and visualize the predicted outputs.  Make sure Python3 and a GPU are enabled in \"Edit -> Notebook Settings. This notebook is based on [this GitHub repository](https://github.com/kamalkraj/DATA-SCIENCE-BOWL-2018) and implemented the [U-Net architecture](https://arxiv.org/abs/1505.04597), which is a popular architecture for biomedical image segmentation.\n",
    "\n",
    "#Your assignment is to:\n",
    "#   #1 \n",
    "Implement the [EarlyStopping](https://keras.io/callbacks/) callback so that the validation set [Dice coefficient](https://en.wikipedia.org/wiki/S%C3%B8rensen%E2%80%93Dice_coefficient) reaches at least 0.87 and cuts off before 50 epochs. Using validation set performance for early stopping helps reduce overfitting. You will need to modify the callback so that it will wait an appropriate amount of time before training stops. You will also need to modify the mode option. Use the training update log below as a reference to decide how long the model should wait before stopping. Because of random weight initialization, there is a chance that you may need to rerun the model to achieve the desired performance on the validation set. Feel free to use the Colab example Scott presented during class as a reference. \n",
    "\n",
    "# #2\n",
    "Plot the training and validation set loss and Dice coefficient metrics for each epoch. The previous Colab example demonstrates how to access and plot this information using the history object, which was created by the [fit](https://keras.io/models/model/) function.\n",
    "\n",
    "\n",
    "# #3\n",
    "For the training set, identify the 5 samples with the highest Dice coefficient scores and the 5 samples with the lowest Dice coefficient scores. For those ten samples, display the input images, the ground truth masks, and the generated output masks. After displaying the images, briefly (in a couple sentences) comment on what you felt were the most notable characteristics of the 5 best and worst samples. There is no right or wrong answer to this question as these are based on your own observations. In a research setting, making observations such as this is vital to better understand the strengths and weaknesses of your model as well as the data you're analyzing.\n",
    "\n",
    "You will need to use the predict function on the training set first to generate the output predictions and then calculate the Dice coefficients. Refer to the \"calc_dice_coef\" function defined in this script to calculate the Dice coefficients.  Run the \"calc_dice_coef'\" function for each predicted/ground truth pair individually (ie. iterate through the first column of the predicted and ground truth mask arrays). To save the Dice coefficients, it is advised that you first create an empty list and then write a for loop to append the output of the \"calc_dice_coef\"  function for each sample of the training set. [This link](https://www.programiz.com/python-programming/list) is a helpful resource if you need to review how to work with lists in Python. Once the list of Dice coefficients is created, you should input it into the \"calc_best_and_worst_n_samples\" function, which is also defined in this script. Use this function to create two nested lists (refer to the above link to learn about nested lists) that contain the index and Dice coefficients for the best and worst 5 samples.\n",
    "\n",
    "Once you have the index and Dice coefficients for the best and worst 5 samples, you are ready to display the images. This script already contains an example of how to display the input images and generated masks for the test set. Feel free to copy this code for #3 and make the necessary modifications to display three columns of images instead of 2. You will be displaying 30 images in total with 10 input images in the first column, 10 ground truth masks in the second column, and 10 generated masks in the third column. Feel free to break up the plots into two figures of 15 images each if you would like to display the best and worst examples in seperately.  Include the Dice coefficient scores in the titles of each generated output image (ie. the title of each image in the third column). "
   ]
  },
  {
   "cell_type": "code",
   "execution_count": 0,
   "metadata": {
    "colab": {},
    "colab_type": "code",
    "id": "0p2TOW290jDl"
   },
   "outputs": [],
   "source": [
    "# ------ No need to change this code, just use it as is -------\n",
    "import os\n",
    "# Data download and unzipping\n",
    "!wget –quiet  https://raw.githubusercontent.com/AakashSudhakar/2018-data-science-bowl/master/compressed_files/stage1_test.zip -c\n",
    "!wget –quiet  https://raw.githubusercontent.com/AakashSudhakar/2018-data-science-bowl/master/compressed_files/stage1_train.zip -c\n",
    "\n",
    "if os.path.isdir('stage1_train'):\n",
    "  !rm -rf 'stage1_train'\n",
    "  \n",
    "if os.path.isdir('stage1_test'):\n",
    "  !rm -rf 'stage1_test'\n",
    "  \n",
    "!mkdir stage1_train stage1_test\n",
    "\n",
    "!unzip -qq stage1_train.zip -d stage1_train/\n",
    "!unzip -qq stage1_test.zip -d stage1_test/"
   ]
  },
  {
   "cell_type": "code",
   "execution_count": 0,
   "metadata": {
    "colab": {},
    "colab_type": "code",
    "id": "JGZ3lxTh0jDo"
   },
   "outputs": [],
   "source": [
    "# ------ No need to change this code, just use it as is -------\n",
    "# Downloading and intstalling keras\n",
    "!pip -q install keras"
   ]
  },
  {
   "cell_type": "code",
   "execution_count": 0,
   "metadata": {
    "colab": {},
    "colab_type": "code",
    "id": "va0eskk-0jDv"
   },
   "outputs": [],
   "source": [
    "# ------ No need to change this code, just use it as is -------\n",
    "import random\n",
    "import sys\n",
    "import warnings\n",
    "import numpy as np\n",
    "import pandas as pd\n",
    "from itertools import chain\n",
    "from skimage.io import imread, imshow, imread_collection, concatenate_images\n",
    "from skimage.transform import resize\n",
    "from skimage.morphology import label\n",
    "from keras.utils import Progbar\n",
    "\n",
    "from keras.models import Model, load_model\n",
    "from keras.layers import Input\n",
    "from keras.layers.core import Dropout, Lambda\n",
    "from keras.layers.convolutional import Conv2D, Conv2DTranspose,Convolution2D\n",
    "from keras.layers.pooling import MaxPooling2D\n",
    "from keras.layers.merge import concatenate\n",
    "from keras import backend as K\n",
    "\n",
    "warnings.filterwarnings('ignore', category=UserWarning, module='skimage')\n",
    "\n",
    "# Setting seed for reproducability\n",
    "seed = 42\n",
    "random.seed = seed\n",
    "np.random.seed = seed\n",
    "smooth = 1.\n",
    "epochs = 50"
   ]
  },
  {
   "cell_type": "code",
   "execution_count": 0,
   "metadata": {
    "colab": {},
    "colab_type": "code",
    "id": "UyNOyw9o0jDz"
   },
   "outputs": [],
   "source": [
    "# ------ No need to change this code, just use it as is -------\n",
    "# Data Path\n",
    "TRAIN_PATH = 'stage1_train/'\n",
    "TEST_PATH = 'stage1_test/'"
   ]
  },
  {
   "cell_type": "code",
   "execution_count": 0,
   "metadata": {
    "colab": {},
    "colab_type": "code",
    "id": "sKCRl3RI0jD2"
   },
   "outputs": [],
   "source": [
    "# ------ No need to change this code, just use it as is -------\n",
    "# Get train and test IDs\n",
    "train_ids = next(os.walk(TRAIN_PATH))[1]\n",
    "test_ids = next(os.walk(TEST_PATH))[1]"
   ]
  },
  {
   "cell_type": "code",
   "execution_count": 0,
   "metadata": {
    "colab": {},
    "colab_type": "code",
    "id": "ONv9yLve0jD6"
   },
   "outputs": [],
   "source": [
    "# ------ No need to change this code, just use it as is -------\n",
    "# Function read train images and mask return as nump array\n",
    "def read_train_data(IMG_WIDTH=256,IMG_HEIGHT=256,IMG_CHANNELS=3):\n",
    "    X_train = np.zeros((len(train_ids), IMG_HEIGHT, IMG_WIDTH, IMG_CHANNELS), dtype=np.uint8)\n",
    "    Y_train = np.zeros((len(train_ids), IMG_HEIGHT, IMG_WIDTH, 1), dtype=np.bool)\n",
    "    print('Getting and resizing train images and masks ... ')\n",
    "    sys.stdout.flush()\n",
    "    if os.path.isfile(\"train_img.npy\") and os.path.isfile(\"train_mask.npy\"):\n",
    "        print(\"Train file loaded from memory\")\n",
    "        X_train = np.load(\"train_img.npy\")\n",
    "        Y_train = np.load(\"train_mask.npy\")\n",
    "        return X_train,Y_train\n",
    "    a = Progbar(len(train_ids))\n",
    "    for n, id_ in enumerate(train_ids):\n",
    "        path = TRAIN_PATH + id_\n",
    "        img = imread(path + '/images/' + id_ + '.png')[:,:,:IMG_CHANNELS]\n",
    "        img = resize(img, (IMG_HEIGHT, IMG_WIDTH), mode='constant', preserve_range=True)\n",
    "        X_train[n] = img\n",
    "        mask = np.zeros((IMG_HEIGHT, IMG_WIDTH, 1), dtype=np.bool)\n",
    "        for mask_file in next(os.walk(path + '/masks/'))[2]:\n",
    "            mask_ = imread(path + '/masks/' + mask_file)\n",
    "            mask_ = np.expand_dims(resize(mask_, (IMG_HEIGHT, IMG_WIDTH), mode='constant', \n",
    "                                        preserve_range=True), axis=-1)\n",
    "            mask = np.maximum(mask, mask_)\n",
    "        Y_train[n] = mask\n",
    "        a.update(n+1)\n",
    "    np.save(\"train_img\",X_train)\n",
    "    np.save(\"train_mask\",Y_train)\n",
    "    return X_train,Y_train"
   ]
  },
  {
   "cell_type": "code",
   "execution_count": 0,
   "metadata": {
    "colab": {},
    "colab_type": "code",
    "id": "mp-tgQ1K0jD-"
   },
   "outputs": [],
   "source": [
    "# ------ No need to change this code, just use it as is -------\n",
    "# Function to read test images and return as numpy array\n",
    "def read_test_data(IMG_WIDTH=256,IMG_HEIGHT=256,IMG_CHANNELS=3):\n",
    "    X_test = np.zeros((len(test_ids), IMG_HEIGHT, IMG_WIDTH, IMG_CHANNELS), dtype=np.uint8)\n",
    "    sizes_test = []\n",
    "    print('\\nGetting and resizing test images ... ')\n",
    "    sys.stdout.flush()\n",
    "    if os.path.isfile(\"test_img.npy\") and os.path.isfile(\"test_size.npy\"):\n",
    "        print(\"Test file loaded from memory\")\n",
    "        X_test = np.load(\"test_img.npy\")\n",
    "        sizes_test = np.load(\"test_size.npy\")\n",
    "        return X_test,sizes_test\n",
    "    b = Progbar(len(test_ids))\n",
    "    for n, id_ in enumerate(test_ids):\n",
    "        path = TEST_PATH + id_\n",
    "        img = imread(path + '/images/' + id_ + '.png')[:,:,:IMG_CHANNELS]\n",
    "        sizes_test.append([img.shape[0], img.shape[1]])\n",
    "        img = resize(img, (IMG_HEIGHT, IMG_WIDTH), mode='constant', preserve_range=True)\n",
    "        X_test[n] = img\n",
    "        b.update(n+1)\n",
    "    np.save(\"test_img\",X_test)\n",
    "    np.save(\"test_size\",sizes_test)\n",
    "    return X_test,sizes_test"
   ]
  },
  {
   "cell_type": "code",
   "execution_count": 0,
   "metadata": {
    "colab": {},
    "colab_type": "code",
    "id": "xXvt-TWj0jEL"
   },
   "outputs": [],
   "source": [
    "# ------ No need to change this code, just use it as a function-------\n",
    "# Metric function\n",
    "def dice_coef(y_true, y_pred):\n",
    "    y_true_f = K.flatten(y_true)\n",
    "    y_pred_f = K.flatten(y_pred)\n",
    "    intersection = K.sum(y_true_f * y_pred_f)\n",
    "    return (2. * intersection + smooth) / (K.sum(y_true_f) + K.sum(y_pred_f) + smooth)\n",
    "def dice_coef_loss(y_true, y_pred):\n",
    "    return -dice_coef(y_true, y_pred)"
   ]
  },
  {
   "cell_type": "code",
   "execution_count": 0,
   "metadata": {
    "colab": {},
    "colab_type": "code",
    "id": "IC8bP7Sd0jEQ"
   },
   "outputs": [],
   "source": [
    "# ------ No need to change this code, just use it as is -------\n",
    "def get_unet(IMG_WIDTH=256,IMG_HEIGHT=256,IMG_CHANNELS=3):\n",
    "    inputs = Input((IMG_HEIGHT, IMG_WIDTH, IMG_CHANNELS))\n",
    "    s = Lambda(lambda x: x / 255) (inputs)\n",
    "    c1 = Conv2D(16, (3, 3), activation='elu', kernel_initializer='he_normal', padding='same') (s)\n",
    "    c1 = Dropout(0.1) (c1)\n",
    "    c1 = Conv2D(16, (3, 3), activation='elu', kernel_initializer='he_normal', padding='same') (c1)\n",
    "    p1 = MaxPooling2D((2, 2)) (c1)\n",
    "    c2 = Conv2D(32, (3, 3), activation='elu', kernel_initializer='he_normal', padding='same') (p1)\n",
    "    c2 = Dropout(0.1) (c2)\n",
    "    c2 = Conv2D(32, (3, 3), activation='elu', kernel_initializer='he_normal', padding='same') (c2)\n",
    "    p2 = MaxPooling2D((2, 2)) (c2)\n",
    "\n",
    "    c3 = Conv2D(64, (3, 3), activation='elu', kernel_initializer='he_normal', padding='same') (p2)\n",
    "    c3 = Dropout(0.2) (c3)\n",
    "    c3 = Conv2D(64, (3, 3), activation='elu', kernel_initializer='he_normal', padding='same') (c3)\n",
    "    p3 = MaxPooling2D((2, 2)) (c3)\n",
    "\n",
    "    c4 = Conv2D(128, (3, 3), activation='elu', kernel_initializer='he_normal', padding='same') (p3)\n",
    "    c4 = Dropout(0.2) (c4)\n",
    "    c4 = Conv2D(128, (3, 3), activation='elu', kernel_initializer='he_normal', padding='same') (c4)\n",
    "    p4 = MaxPooling2D(pool_size=(2, 2)) (c4)\n",
    "\n",
    "    c5 = Conv2D(256, (3, 3), activation='elu', kernel_initializer='he_normal', padding='same') (p4)\n",
    "    c5 = Dropout(0.3) (c5)\n",
    "    c5 = Conv2D(256, (3, 3), activation='elu', kernel_initializer='he_normal', padding='same') (c5)\n",
    "\n",
    "    u6 = Conv2DTranspose(128, (2, 2), strides=(2, 2), padding='same') (c5)\n",
    "    u6 = concatenate([u6, c4])\n",
    "    c6 = Conv2D(128, (3, 3), activation='elu', kernel_initializer='he_normal', padding='same') (u6)\n",
    "    c6 = Dropout(0.2) (c6)\n",
    "    c6 = Conv2D(128, (3, 3), activation='elu', kernel_initializer='he_normal', padding='same') (c6)\n",
    "\n",
    "    u7 = Conv2DTranspose(64, (2, 2), strides=(2, 2), padding='same') (c6)\n",
    "    u7 = concatenate([u7, c3])\n",
    "    c7 = Conv2D(64, (3, 3), activation='elu', kernel_initializer='he_normal', padding='same') (u7)\n",
    "    c7 = Dropout(0.2) (c7)\n",
    "    c7 = Conv2D(64, (3, 3), activation='elu', kernel_initializer='he_normal', padding='same') (c7)\n",
    "\n",
    "    u8 = Conv2DTranspose(32, (2, 2), strides=(2, 2), padding='same') (c7)\n",
    "    u8 = concatenate([u8, c2])\n",
    "    c8 = Conv2D(32, (3, 3), activation='elu', kernel_initializer='he_normal', padding='same') (u8)\n",
    "    c8 = Dropout(0.1) (c8)\n",
    "    c8 = Conv2D(32, (3, 3), activation='elu', kernel_initializer='he_normal', padding='same') (c8)\n",
    "\n",
    "    u9 = Conv2DTranspose(16, (2, 2), strides=(2, 2), padding='same') (c8)\n",
    "    u9 = concatenate([u9, c1], axis=3)\n",
    "    c9 = Conv2D(16, (3, 3), activation='elu', kernel_initializer='he_normal', padding='same') (u9)\n",
    "    c9 = Dropout(0.1) (c9)\n",
    "    c9 = Conv2D(16, (3, 3), activation='elu', kernel_initializer='he_normal', padding='same') (c9)\n",
    "\n",
    "    outputs = Conv2D(1, (1, 1), activation='sigmoid') (c9)\n",
    "\n",
    "    model = Model(inputs=[inputs], outputs=[outputs])\n",
    "    model.compile(optimizer='adam',loss='binary_crossentropy', metrics=[dice_coef])\n",
    "    return model"
   ]
  },
  {
   "cell_type": "code",
   "execution_count": 0,
   "metadata": {
    "colab": {},
    "colab_type": "code",
    "id": "BIt7dBv80jEU"
   },
   "outputs": [],
   "source": [
    "# ------ No need to change this code, just use it as is -------\n",
    "# get train_data\n",
    "train_img,train_mask = read_train_data()\n",
    "\n",
    "# get test_data\n",
    "test_img,test_img_sizes = read_test_data()"
   ]
  },
  {
   "cell_type": "code",
   "execution_count": 0,
   "metadata": {
    "colab": {},
    "colab_type": "code",
    "id": "tgRwYl9Q0jEa"
   },
   "outputs": [],
   "source": [
    "# ------ No need to change this code, just use it as is -------\n",
    "u_net = get_unet()"
   ]
  },
  {
   "cell_type": "code",
   "execution_count": 0,
   "metadata": {
    "colab": {},
    "colab_type": "code",
    "id": "a0_3R94hwJjA"
   },
   "outputs": [],
   "source": [
    "# ---- Implement Early stopping: Task #1 ------\n",
    "from keras.callbacks import Callback\n",
    "from keras.callbacks import EarlyStopping\n",
    "\n",
    "class EarlyStoppingByLossVal(Callback):\n",
    "    def __init__(self, monitor='val_dice_coef', value=0.87, verbose=0):\n",
    "        super(Callback, self).__init__()\n",
    "        self.monitor = monitor\n",
    "        self.value = value\n",
    "        self.verbose = verbose\n",
    "\n",
    "    def on_epoch_end(self, epoch, logs={}):\n",
    "        current = logs.get(self.monitor)\n",
    "        if current is None:\n",
    "            print(\"Early stopping requires %s available!\" % self.monitor)\n",
    "            exit()\n",
    "\n",
    "        if current > self.value:\n",
    "            if self.verbose > 0:\n",
    "                print(\"Epoch %05d: early stopping THR\" % epoch)\n",
    "            self.model.stop_training = True\n",
    "\n",
    "\n",
    "\n"
   ]
  },
  {
   "cell_type": "code",
   "execution_count": 0,
   "metadata": {
    "colab": {},
    "colab_type": "code",
    "id": "DkvwWi340jEc"
   },
   "outputs": [],
   "source": [
    "# ------ You need to change -----------------\n",
    "# fit model on train_data\n",
    "print(\"\\nTraining...\")\n",
    "history=model.fit(x_train, y_train,\n",
    "          batch_size=batch_size,\n",
    "          epochs=epochs,\n",
    "          validation_split=0.15,\n",
    "          callbacks=[stop_early],\n",
    "          shuffle=True) "
   ]
  },
  {
   "cell_type": "code",
   "execution_count": 0,
   "metadata": {
    "colab": {},
    "colab_type": "code",
    "id": "SFWXcX1l0jEg"
   },
   "outputs": [],
   "source": [
    "# ------ No need to change this code, just use it as is -------\n",
    "print(\"Predicting\")\n",
    "# Predict on test data\n",
    "test_mask = u_net.predict(test_img,verbose=1)"
   ]
  },
  {
   "cell_type": "code",
   "execution_count": 0,
   "metadata": {
    "colab": {},
    "colab_type": "code",
    "id": "gx9wPiRh2DkK"
   },
   "outputs": [],
   "source": [
    "# ------ No need to change this code, just use it as is -------\n",
    "import matplotlib.pyplot as plt\n",
    "import matplotlib.image as mpimg\n",
    "\n",
    "plt.figure(figsize=(15,200))\n",
    "for i in range(40):\n",
    "  cur_test_mask=test_mask[i,:,:,0]\n",
    "  cur_image=test_img[i]\n",
    "  plt.subplot(40,2,(i+1)*2-1)\n",
    "  plt.imshow(cur_image)\n",
    "  plt.title('Input Image')\n",
    "  plt.subplot(40,2,(i+1)*2)\n",
    "  plt.imshow(cur_test_mask,cmap='copper')\n",
    "  plt.title('Generated Mask')\n"
   ]
  },
  {
   "cell_type": "code",
   "execution_count": 0,
   "metadata": {
    "colab": {},
    "colab_type": "code",
    "id": "Vl7kJGkRB8xX"
   },
   "outputs": [],
   "source": [
    "#Insert code to complete Task #2\n",
    "\n",
    "def plot_train_and_val(history):\n",
    "  plt.plot(history.history['val_dice_coef'])\n",
    "  plt.plot(history.history['dice_coef'])\n",
    "  plt.title('model dice')\n",
    "  plt.ylabel('dice_coef')\n",
    "  plt.xlabel('epoch')\n",
    "  plt.legend(['train', 'Validation'], loc='upper left')\n",
    "  plt.show()\n",
    "  plt.plot(history.history['loss'])\n",
    "  plt.plot(history.history['val_loss'])\n",
    "  plt.title('model loss')\n",
    "  plt.ylabel('loss')\n",
    "  plt.xlabel('epoch')\n",
    "  plt.legend(['train', 'Validation'], loc='upper left')\n",
    "  plt.show()\n",
    "\n",
    "plot_train_and_val(history)"
   ]
  },
  {
   "cell_type": "code",
   "execution_count": 0,
   "metadata": {
    "colab": {},
    "colab_type": "code",
    "id": "nHrPGMLQJ8U-"
   },
   "outputs": [],
   "source": [
    "# ------ No need to change this code, just use it as is -------\n",
    "# computes DICE for a given ground truth mask and predicted mask \n",
    "def calc_dice_coef(y_true, y_pred):\n",
    "    intersection = np.sum(y_true * y_pred)\n",
    "    return (2. * intersection + smooth) / (np.sum(y_true) + np.sum(y_pred) + smooth)\n",
    "  \n",
    "# this function finds the best and worst (#n_smaples) in terms of DICE score among all calculated DICE scores  \n",
    "def calc_best_and_worst_n_samples(training_set_dice_coefs,n_samples):\n",
    "  best_n_samples=[]\n",
    "  worst_n_samples=[]\n",
    "  for i in range(n_samples):\n",
    "      best_n_samples.append([np.amax(training_set_dice_coefs),np.argmax(training_set_dice_coefs)])\n",
    "      worst_n_samples.append([np.amin(training_set_dice_coefs),np.argmin(training_set_dice_coefs)])\n",
    "      training_set_dice_coefs[np.argmax(training_set_dice_coefs)]=np.mean(training_set_dice_coefs)\n",
    "      training_set_dice_coefs[np.argmin(training_set_dice_coefs)]=np.mean(training_set_dice_coefs)\n",
    "  for i in range(n_samples):\n",
    "      training_set_dice_coefs[best_n_samples[i][1]]=best_n_samples[i][0]\n",
    "      training_set_dice_coefs[worst_n_samples[i][1]]=worst_n_samples[i][0]\n",
    "  return best_n_samples,worst_n_samples"
   ]
  },
  {
   "cell_type": "code",
   "execution_count": 0,
   "metadata": {
    "colab": {},
    "colab_type": "code",
    "id": "nCC82mYwPv7Z"
   },
   "outputs": [],
   "source": [
    "#Insert code to complete #3 below. Feel free to add more cells to split up the code.\n",
    "\n",
    "pre_train_mask = u_net.predict(train_img,verbose=1)\n",
    "dice_coe_list=[]\n",
    "len_train=len(train_img)\n",
    "for i in range (len_train):\n",
    "    num_coe=calc_dice_coef(y_true=train_mask[i],y_pred=pre_train_mask[i])\n",
    "    dice_coe_list.append(num_coe)\n",
    "print(dice_coe_list)"
   ]
  },
  {
   "cell_type": "code",
   "execution_count": null,
   "metadata": {},
   "outputs": [],
   "source": [
    "best_n=[]\n",
    "worst_n=[]\n",
    "best_n,worst_n=calc_best_and_worst_n_samples(dice_coe_list,5)\n",
    "print(best_n)\n",
    "print(worst_n)"
   ]
  },
  {
   "cell_type": "code",
   "execution_count": null,
   "metadata": {},
   "outputs": [],
   "source": [
    "plt.figure(figsize=(20,150))\n",
    "a=[190,644,302,455,536]\n",
    "for i in range(len(a)):\n",
    "    best_train_mask=train_mask[a[i],:,:,0]\n",
    "    best_train_premake=pre_train_mask[a[i],:,:,0]\n",
    "    best_train_image=train_img[a[i]]  \n",
    "    plt.subplot(5,3,(i+1)*3-2)\n",
    "    plt.imshow(best_train_image)\n",
    "    plt.title('Train Image')\n",
    "    plt.subplot(5,3,(i+1)*3-1)\n",
    "    plt.imshow(best_train_mask,cmap='Blues')\n",
    "    plt.title('Train Mask')\n",
    "    plt.subplot(5,3,(i+1)*3)\n",
    "    plt.imshow(best_train_premake,cmap='copper')\n",
    "    c=dice_coe_list[a[i]]\n",
    "    plt.title(c)"
   ]
  },
  {
   "cell_type": "markdown",
   "metadata": {
    "colab_type": "text",
    "id": "4vzVPdMCQ70t"
   },
   "source": [
    "#Insert your brief analysis for #3 below."
   ]
  },
  {
   "cell_type": "markdown",
   "metadata": {
    "colab_type": "text",
    "id": "PMMV8QMvUsDt"
   },
   "source": []
  }
 ],
 "metadata": {
  "accelerator": "GPU",
  "colab": {
   "collapsed_sections": [],
   "name": "Nuclei_Segmentation_HW_Problem.ipynb",
   "provenance": [],
   "version": "0.3.2"
  },
  "kernelspec": {
   "display_name": "Python 3",
   "language": "python",
   "name": "python3"
  },
  "language_info": {
   "codemirror_mode": {
    "name": "ipython",
    "version": 3
   },
   "file_extension": ".py",
   "mimetype": "text/x-python",
   "name": "python",
   "nbconvert_exporter": "python",
   "pygments_lexer": "ipython3",
   "version": "3.6.5"
  }
 },
 "nbformat": 4,
 "nbformat_minor": 1
}
