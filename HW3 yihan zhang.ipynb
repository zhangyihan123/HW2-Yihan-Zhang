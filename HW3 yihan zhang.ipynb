{
 "cells": [
  {
   "cell_type": "code",
   "execution_count": 22,
   "metadata": {},
   "outputs": [],
   "source": [
    "import numpy as np\n",
    "from urllib.request import urlopen"
   ]
  },
  {
   "cell_type": "code",
   "execution_count": 23,
   "metadata": {},
   "outputs": [],
   "source": [
    "import matplotlib.pyplot as plt\n",
    "import pandas as pd"
   ]
  },
  {
   "cell_type": "code",
   "execution_count": 24,
   "metadata": {},
   "outputs": [],
   "source": [
    "import csv\n",
    "import pandas as pd"
   ]
  },
  {
   "cell_type": "code",
   "execution_count": 25,
   "metadata": {},
   "outputs": [
    {
     "data": {
      "text/html": [
       "<div>\n",
       "<style scoped>\n",
       "    .dataframe tbody tr th:only-of-type {\n",
       "        vertical-align: middle;\n",
       "    }\n",
       "\n",
       "    .dataframe tbody tr th {\n",
       "        vertical-align: top;\n",
       "    }\n",
       "\n",
       "    .dataframe thead th {\n",
       "        text-align: right;\n",
       "    }\n",
       "</style>\n",
       "<table border=\"1\" class=\"dataframe\">\n",
       "  <thead>\n",
       "    <tr style=\"text-align: right;\">\n",
       "      <th></th>\n",
       "      <th>0</th>\n",
       "      <th>1</th>\n",
       "      <th>2</th>\n",
       "      <th>3</th>\n",
       "      <th>4</th>\n",
       "      <th>5</th>\n",
       "      <th>6</th>\n",
       "      <th>7</th>\n",
       "      <th>8</th>\n",
       "      <th>9</th>\n",
       "      <th>...</th>\n",
       "      <th>1991</th>\n",
       "      <th>1992</th>\n",
       "      <th>1993</th>\n",
       "      <th>1994</th>\n",
       "      <th>1995</th>\n",
       "      <th>1996</th>\n",
       "      <th>1997</th>\n",
       "      <th>1998</th>\n",
       "      <th>1999</th>\n",
       "      <th>2000</th>\n",
       "    </tr>\n",
       "  </thead>\n",
       "  <tbody>\n",
       "    <tr>\n",
       "      <th>0</th>\n",
       "      <td>0</td>\n",
       "      <td>2.080754</td>\n",
       "      <td>1.099069</td>\n",
       "      <td>0.927763</td>\n",
       "      <td>1.029081</td>\n",
       "      <td>-0.130763</td>\n",
       "      <td>1.265460</td>\n",
       "      <td>-0.436286</td>\n",
       "      <td>0.728881</td>\n",
       "      <td>2.107979</td>\n",
       "      <td>...</td>\n",
       "      <td>-0.825403</td>\n",
       "      <td>-0.138451</td>\n",
       "      <td>0.382957</td>\n",
       "      <td>0.876697</td>\n",
       "      <td>-0.216234</td>\n",
       "      <td>-1.408300</td>\n",
       "      <td>0.393327</td>\n",
       "      <td>-0.148522</td>\n",
       "      <td>1.591533</td>\n",
       "      <td>-0.217481</td>\n",
       "    </tr>\n",
       "    <tr>\n",
       "      <th>1</th>\n",
       "      <td>1</td>\n",
       "      <td>1.109457</td>\n",
       "      <td>0.786453</td>\n",
       "      <td>0.445560</td>\n",
       "      <td>-0.146323</td>\n",
       "      <td>-0.996316</td>\n",
       "      <td>0.555759</td>\n",
       "      <td>0.290734</td>\n",
       "      <td>-0.145259</td>\n",
       "      <td>1.132660</td>\n",
       "      <td>...</td>\n",
       "      <td>-1.056288</td>\n",
       "      <td>-0.205499</td>\n",
       "      <td>-1.815374</td>\n",
       "      <td>0.324373</td>\n",
       "      <td>-1.296909</td>\n",
       "      <td>-0.870757</td>\n",
       "      <td>1.108739</td>\n",
       "      <td>1.094010</td>\n",
       "      <td>-0.492141</td>\n",
       "      <td>-1.554079</td>\n",
       "    </tr>\n",
       "    <tr>\n",
       "      <th>2</th>\n",
       "      <td>0</td>\n",
       "      <td>-0.676530</td>\n",
       "      <td>1.693100</td>\n",
       "      <td>1.559247</td>\n",
       "      <td>1.559983</td>\n",
       "      <td>-0.982179</td>\n",
       "      <td>-1.358507</td>\n",
       "      <td>-1.313994</td>\n",
       "      <td>-0.455067</td>\n",
       "      <td>0.295214</td>\n",
       "      <td>...</td>\n",
       "      <td>1.242968</td>\n",
       "      <td>1.230157</td>\n",
       "      <td>-2.038999</td>\n",
       "      <td>2.366093</td>\n",
       "      <td>0.820656</td>\n",
       "      <td>1.404501</td>\n",
       "      <td>0.176860</td>\n",
       "      <td>-0.086285</td>\n",
       "      <td>-0.390878</td>\n",
       "      <td>-0.089465</td>\n",
       "    </tr>\n",
       "    <tr>\n",
       "      <th>3</th>\n",
       "      <td>1</td>\n",
       "      <td>0.534396</td>\n",
       "      <td>1.677537</td>\n",
       "      <td>1.489030</td>\n",
       "      <td>0.778605</td>\n",
       "      <td>-0.183776</td>\n",
       "      <td>-1.116850</td>\n",
       "      <td>-1.487557</td>\n",
       "      <td>-0.579511</td>\n",
       "      <td>0.292683</td>\n",
       "      <td>...</td>\n",
       "      <td>0.559852</td>\n",
       "      <td>-0.593149</td>\n",
       "      <td>-4.440577</td>\n",
       "      <td>1.720705</td>\n",
       "      <td>-0.124617</td>\n",
       "      <td>-0.435880</td>\n",
       "      <td>0.228440</td>\n",
       "      <td>-0.893938</td>\n",
       "      <td>1.005879</td>\n",
       "      <td>-0.631247</td>\n",
       "    </tr>\n",
       "    <tr>\n",
       "      <th>4</th>\n",
       "      <td>0</td>\n",
       "      <td>-1.018903</td>\n",
       "      <td>0.511080</td>\n",
       "      <td>0.755641</td>\n",
       "      <td>1.013816</td>\n",
       "      <td>0.529899</td>\n",
       "      <td>0.160440</td>\n",
       "      <td>-0.087055</td>\n",
       "      <td>1.295290</td>\n",
       "      <td>0.458736</td>\n",
       "      <td>...</td>\n",
       "      <td>0.227110</td>\n",
       "      <td>0.497628</td>\n",
       "      <td>-0.083921</td>\n",
       "      <td>-0.382733</td>\n",
       "      <td>-0.913389</td>\n",
       "      <td>1.122928</td>\n",
       "      <td>0.834571</td>\n",
       "      <td>-0.283786</td>\n",
       "      <td>-2.860340</td>\n",
       "      <td>0.280871</td>\n",
       "    </tr>\n",
       "  </tbody>\n",
       "</table>\n",
       "<p>5 rows × 2001 columns</p>\n",
       "</div>"
      ],
      "text/plain": [
       "   0         1         2         3         4         5         6         7     \\\n",
       "0     0  2.080754  1.099069  0.927763  1.029081 -0.130763  1.265460 -0.436286   \n",
       "1     1  1.109457  0.786453  0.445560 -0.146323 -0.996316  0.555759  0.290734   \n",
       "2     0 -0.676530  1.693100  1.559247  1.559983 -0.982179 -1.358507 -1.313994   \n",
       "3     1  0.534396  1.677537  1.489030  0.778605 -0.183776 -1.116850 -1.487557   \n",
       "4     0 -1.018903  0.511080  0.755641  1.013816  0.529899  0.160440 -0.087055   \n",
       "\n",
       "       8         9       ...         1991      1992      1993      1994  \\\n",
       "0  0.728881  2.107979    ...    -0.825403 -0.138451  0.382957  0.876697   \n",
       "1 -0.145259  1.132660    ...    -1.056288 -0.205499 -1.815374  0.324373   \n",
       "2 -0.455067  0.295214    ...     1.242968  1.230157 -2.038999  2.366093   \n",
       "3 -0.579511  0.292683    ...     0.559852 -0.593149 -4.440577  1.720705   \n",
       "4  1.295290  0.458736    ...     0.227110  0.497628 -0.083921 -0.382733   \n",
       "\n",
       "       1995      1996      1997      1998      1999      2000  \n",
       "0 -0.216234 -1.408300  0.393327 -0.148522  1.591533 -0.217481  \n",
       "1 -1.296909 -0.870757  1.108739  1.094010 -0.492141 -1.554079  \n",
       "2  0.820656  1.404501  0.176860 -0.086285 -0.390878 -0.089465  \n",
       "3 -0.124617 -0.435880  0.228440 -0.893938  1.005879 -0.631247  \n",
       "4 -0.913389  1.122928  0.834571 -0.283786 -2.860340  0.280871  \n",
       "\n",
       "[5 rows x 2001 columns]"
      ]
     },
     "execution_count": 25,
     "metadata": {},
     "output_type": "execute_result"
    }
   ],
   "source": [
    "df = pd.read_csv('HW3Data (1).csv', header=None)\n",
    "df\n",
    "df.head()"
   ]
  },
  {
   "cell_type": "code",
   "execution_count": 26,
   "metadata": {},
   "outputs": [
    {
     "data": {
      "text/plain": [
       "(62, 2001)"
      ]
     },
     "execution_count": 26,
     "metadata": {},
     "output_type": "execute_result"
    }
   ],
   "source": [
    "df.shape\n"
   ]
  },
  {
   "cell_type": "code",
   "execution_count": 27,
   "metadata": {},
   "outputs": [],
   "source": [
    "from sklearn.model_selection import train_test_split\n",
    "X=df.iloc[:,1:2000].values\n",
    "y=df.iloc[:,0].values\n",
    "X_train, X_test, y_train, y_test = \\\n",
    "    train_test_split(X, y, \n",
    "                     test_size=0.20,\n",
    "                     stratify=y,\n",
    "                     random_state=1)"
   ]
  },
  {
   "cell_type": "code",
   "execution_count": 28,
   "metadata": {},
   "outputs": [
    {
     "name": "stdout",
     "output_type": "stream",
     "text": [
      "Automatically created module for IPython interactive environment\n",
      "Optimal number of features : 37\n"
     ]
    },
    {
     "data": {
      "image/png": "[encoded data removed]",
      "text/plain": [
       "<Figure size 432x288 with 1 Axes>"
      ]
     },
     "metadata": {},
     "output_type": "display_data"
    }
   ],
   "source": [
    "print(__doc__)\n",
    "\n",
    "import matplotlib.pyplot as plt\n",
    "from sklearn.svm import SVC\n",
    "from sklearn.model_selection import StratifiedKFold\n",
    "from sklearn.feature_selection import RFECV\n",
    "from sklearn.datasets import make_classification\n",
    "\n",
    "svc = SVC(kernel=\"linear\")\n",
    "\n",
    "rfecv = RFECV(estimator=svc, step=1, cv=StratifiedKFold(2),\n",
    "              scoring='accuracy')\n",
    "rfecv.fit(X, y)\n",
    "\n",
    "print(\"Optimal number of features : %d\" % rfecv.n_features_)\n",
    "\n",
    "plt.figure()\n",
    "plt.xlabel(\"Number of features selected\")\n",
    "plt.ylabel(\"Cross validation score (nb of correct classifications)\")\n",
    "plt.plot(range(1, len(rfecv.grid_scores_) + 1), rfecv.grid_scores_)\n",
    "plt.show()"
   ]
  },
  {
   "cell_type": "code",
   "execution_count": 29,
   "metadata": {},
   "outputs": [
    {
     "data": {
      "text/plain": [
       "(62, 37)"
      ]
     },
     "execution_count": 29,
     "metadata": {},
     "output_type": "execute_result"
    }
   ],
   "source": [
    "rfecv.transform(X).shape"
   ]
  },
  {
   "cell_type": "code",
   "execution_count": 35,
   "metadata": {},
   "outputs": [
    {
     "data": {
      "image/png": "[encoded data removed]",
      "text/plain": [
       "<Figure size 432x288 with 1 Axes>"
      ]
     },
     "metadata": {},
     "output_type": "display_data"
    }
   ],
   "source": [
    "from sklearn.preprocessing import StandardScaler\n",
    "from sklearn.decomposition import PCA\n",
    "from sklearn.linear_model import LogisticRegression\n",
    "from sklearn.pipeline import make_pipeline\n",
    "import matplotlib.pyplot as plt\n",
    "from sklearn.model_selection import learning_curve\n",
    "\n",
    "\n",
    "pipe_lr = make_pipeline(StandardScaler(),\n",
    "                        LogisticRegression(penalty='l2', random_state=1))\n",
    "\n",
    "train_sizes, train_scores, test_scores =\\\n",
    "                learning_curve(estimator=svc,\n",
    "                               X=X_train,\n",
    "                               y=y_train,\n",
    "                               train_sizes=np.linspace(0.1, 1.0, 10),\n",
    "                               cv=10,\n",
    "                               n_jobs=1)\n",
    "\n",
    "train_mean = np.mean(train_scores, axis=1)\n",
    "train_std = np.std(train_scores, axis=1)\n",
    "test_mean = np.mean(test_scores, axis=1)\n",
    "test_std = np.std(test_scores, axis=1)\n",
    "\n",
    "plt.plot(train_sizes, train_mean,\n",
    "         color='blue', marker='o',\n",
    "         markersize=5, label='training accuracy')\n",
    "\n",
    "plt.fill_between(train_sizes,\n",
    "                 train_mean + train_std,\n",
    "                 train_mean - train_std,\n",
    "                 alpha=0.15, color='blue')\n",
    "\n",
    "plt.plot(train_sizes, test_mean,\n",
    "         color='green', linestyle='--',\n",
    "         marker='s', markersize=5,\n",
    "         label='validation accuracy')\n",
    "\n",
    "plt.fill_between(train_sizes,\n",
    "                 test_mean + test_std,\n",
    "                 test_mean - test_std,\n",
    "                 alpha=0.15, color='green')\n",
    "\n",
    "plt.grid()\n",
    "plt.xlabel('Number of training samples')\n",
    "plt.ylabel('Accuracy')\n",
    "plt.legend(loc='lower right')\n",
    "plt.ylim([0.6, 1.03])\n",
    "plt.tight_layout()\n",
    "plt.show()\n"
   ]
  },
  {
   "cell_type": "code",
   "execution_count": 36,
   "metadata": {},
   "outputs": [
    {
     "data": {
      "image/png": "[encoded data removed]",
      "text/plain": [
       "<Figure size 432x288 with 1 Axes>"
      ]
     },
     "metadata": {},
     "output_type": "display_data"
    }
   ],
   "source": [
    "from sklearn.model_selection import validation_curve\n",
    "\n",
    "train_scores, test_scores = validation_curve(\n",
    "                estimator=svc, \n",
    "                X=X_train, \n",
    "                y=y_train, \n",
    "                param_name='gamma', \n",
    "                param_range=param_range,\n",
    "                cv=10\n",
    "                )\n",
    "\n",
    "train_mean = np.mean(train_scores, axis=1)\n",
    "train_std = np.std(train_scores, axis=1)\n",
    "test_mean = np.mean(test_scores, axis=1)\n",
    "test_std = np.std(test_scores, axis=1)\n",
    "\n",
    "plt.plot(param_range, train_mean, \n",
    "         color='blue', marker='o', \n",
    "         markersize=5, label='training accuracy')\n",
    "\n",
    "plt.fill_between(param_range, train_mean + train_std,\n",
    "                 train_mean - train_std, alpha=0.15,\n",
    "                 color='blue')\n",
    "\n",
    "plt.plot(param_range, test_mean, \n",
    "         color='green', linestyle='--', \n",
    "         marker='s', markersize=5, \n",
    "         label='validation accuracy')\n",
    "\n",
    "plt.fill_between(param_range, \n",
    "                 test_mean + test_std,\n",
    "                 test_mean - test_std, \n",
    "                 alpha=0.15, color='green')\n",
    "\n",
    "plt.grid()\n",
    "plt.xscale('log')\n",
    "plt.legend(loc='lower right')\n",
    "plt.xlabel('Parameter C')\n",
    "plt.ylabel('Accuracy')\n",
    "plt.ylim([0.7, 1.0])\n",
    "plt.tight_layout()\n",
    "plt.show()"
   ]
  },
  {
   "cell_type": "code",
   "execution_count": null,
   "metadata": {},
   "outputs": [],
   "source": []
  }
 ],
 "metadata": {
  "kernelspec": {
   "display_name": "Python 3",
   "language": "python",
   "name": "python3"
  },
  "language_info": {
   "codemirror_mode": {
    "name": "ipython",
    "version": 3
   },
   "file_extension": ".py",
   "mimetype": "text/x-python",
   "name": "python",
   "nbconvert_exporter": "python",
   "pygments_lexer": "ipython3",
   "version": "3.6.5"
  }
 },
 "nbformat": 4,
 "nbformat_minor": 2
}
